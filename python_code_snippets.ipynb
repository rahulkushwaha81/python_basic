{
 "cells": [
  {
   "cell_type": "markdown",
   "metadata": {},
   "source": [
    "### Below code snippets cover different concepts of python"
   ]
  },
  {
   "cell_type": "markdown",
   "metadata": {},
   "source": [
    "<font color=blue>**Datatypes in python:**</font>\n",
    "\n",
    "- datatype => int,float, boolean\n",
    "- sequence types => str, bytes, bytearray, list, tuple, range,set\n",
    "- mutable => list,dict,bytearray,set\n",
    "- immutable => int,float,str,bytes,tuple\n",
    "- collections => dictionary, set"
   ]
  },
  {
   "cell_type": "markdown",
   "metadata": {},
   "source": [
    "<font color=blue>**Mutable/Immutable:**</font>"
   ]
  },
  {
   "cell_type": "code",
   "execution_count": 1,
   "metadata": {
    "scrolled": true
   },
   "outputs": [
    {
     "ename": "TypeError",
     "evalue": "'str' object does not support item assignment",
     "output_type": "error",
     "traceback": [
      "\u001b[1;31m---------------------------------------------------------------------------\u001b[0m",
      "\u001b[1;31mTypeError\u001b[0m                                 Traceback (most recent call last)",
      "\u001b[1;32m<ipython-input-1-2405cf0d9771>\u001b[0m in \u001b[0;36m<module>\u001b[1;34m\u001b[0m\n\u001b[0;32m      1\u001b[0m \u001b[1;31m#example of immutable\u001b[0m\u001b[1;33m\u001b[0m\u001b[1;33m\u001b[0m\u001b[1;33m\u001b[0m\u001b[0m\n\u001b[0;32m      2\u001b[0m \u001b[0ms\u001b[0m \u001b[1;33m=\u001b[0m \u001b[1;34m'banana'\u001b[0m \u001b[1;31m#string is immutable\u001b[0m\u001b[1;33m\u001b[0m\u001b[1;33m\u001b[0m\u001b[0m\n\u001b[1;32m----> 3\u001b[1;33m \u001b[0ms\u001b[0m\u001b[1;33m[\u001b[0m\u001b[1;36m0\u001b[0m\u001b[1;33m]\u001b[0m \u001b[1;33m=\u001b[0m \u001b[1;34m'e'\u001b[0m \u001b[1;31m#this will give you error\u001b[0m\u001b[1;33m\u001b[0m\u001b[1;33m\u001b[0m\u001b[0m\n\u001b[0m",
      "\u001b[1;31mTypeError\u001b[0m: 'str' object does not support item assignment"
     ]
    }
   ],
   "source": [
    "#example of immutable\n",
    "s = 'banana' #string is immutable\n",
    "s[0] = 'e' #this will give you error"
   ]
  },
  {
   "cell_type": "code",
   "execution_count": 2,
   "metadata": {
    "scrolled": true
   },
   "outputs": [
    {
     "name": "stdout",
     "output_type": "stream",
     "text": [
      "bytearray(b'ahis is string')\n"
     ]
    }
   ],
   "source": [
    "#example of mutable\n",
    "x = bytearray('this is string',encoding='utf-8')\n",
    "x[0]=97 #no error\n",
    "print(x)"
   ]
  },
  {
   "cell_type": "markdown",
   "metadata": {},
   "source": [
    "<font color=blue>**Bytes**</font>\n",
    "\n",
    "returns byte object range between 0 and 256"
   ]
  },
  {
   "cell_type": "code",
   "execution_count": 5,
   "metadata": {
    "scrolled": true
   },
   "outputs": [
    {
     "name": "stdout",
     "output_type": "stream",
     "text": [
      "<class 'bytes'>\n",
      "97\n",
      "b'this is byte'\n"
     ]
    }
   ],
   "source": [
    "s = b'abcd' #immutable\n",
    "print(type(s))\n",
    "print(s[0])\n",
    "w=bytes('this is byte', encoding='utf-8')\n",
    "print(w)"
   ]
  },
  {
   "cell_type": "code",
   "execution_count": 4,
   "metadata": {
    "scrolled": true
   },
   "outputs": [
    {
     "name": "stdout",
     "output_type": "stream",
     "text": [
      "b'\\xe8\\x93\\x8f\\xec\\xbd\\xaf\\xec\\xba\\x81\\xe6\\xbe\\xbd\\xe8\\x8b\\x8f'\n",
      "蓏콯캁澽苏\n"
     ]
    }
   ],
   "source": [
    "#string to bytes\n",
    "b = bytes('蓏콯캁澽苏',encoding='utf-8')\n",
    "print(b)\n",
    "#bytes to string\n",
    "print(b.decode('utf-8'))\n",
    "#b[1]=234 #immutable will give you error"
   ]
  },
  {
   "cell_type": "markdown",
   "metadata": {},
   "source": [
    "<font color=blue>**Misc Functions**</font>"
   ]
  },
  {
   "cell_type": "code",
   "execution_count": 1,
   "metadata": {
    "scrolled": true
   },
   "outputs": [
    {
     "name": "stdout",
     "output_type": "stream",
     "text": [
      "banana\n"
     ]
    }
   ],
   "source": [
    "#strip\n",
    "txt = \",,,,,rrttgg.....banana....rrr\"\n",
    "x = txt.strip(\",.grt\") #strip whitespace if no parameter is given\n",
    "print(x)"
   ]
  },
  {
   "cell_type": "code",
   "execution_count": null,
   "metadata": {
    "scrolled": true
   },
   "outputs": [],
   "source": [
    "#split\n",
    "str1 = 'The constants defined in this module are'\n",
    "x =  str1.split()\n",
    "print(x)"
   ]
  },
  {
   "cell_type": "code",
   "execution_count": null,
   "metadata": {
    "scrolled": true
   },
   "outputs": [],
   "source": [
    "#print\n",
    "print('print this {} and then print this {}'.format(1,2))\n",
    "print('print this {x} and then print this {y}'.format(x=1.00567,y=2))"
   ]
  },
  {
   "cell_type": "markdown",
   "metadata": {},
   "source": [
    "<font color=blue>**List**</font>"
   ]
  },
  {
   "cell_type": "code",
   "execution_count": null,
   "metadata": {
    "scrolled": true
   },
   "outputs": [],
   "source": [
    "ls = list(range(1,10))\n",
    "ls.append('1')\n",
    "ls.append(list('rahul'))\n",
    "#ls.sort()\n",
    "ls[2:5]\n",
    "ls[::-1] #to reverse\n",
    "ls[0::2]\n",
    "ls.remove('1')\n",
    "ls.pop()\n",
    "#You cannot copy a list simply by typing list2 = list1, because: list2 will only be \n",
    "#a reference to list1, and changes made in list1 will automatically \n",
    "#also be made in list2.\n",
    "\n",
    "#To copy list content of a list to other list use copy() "
   ]
  },
  {
   "cell_type": "code",
   "execution_count": null,
   "metadata": {},
   "outputs": [],
   "source": [
    "str1 = 'The constants defined in this module are'\n",
    "l =  str1.split()\n",
    "'|'.join(l)"
   ]
  },
  {
   "cell_type": "markdown",
   "metadata": {},
   "source": [
    "<font color=blue>**List Comprehension**</font>"
   ]
  },
  {
   "cell_type": "code",
   "execution_count": null,
   "metadata": {
    "scrolled": true
   },
   "outputs": [],
   "source": [
    "str1 = 'The constants defined in this module are'\n",
    "ls = str1.split()\n",
    "[x for x in ls if x.upper().startswith('THIS')]"
   ]
  },
  {
   "cell_type": "code",
   "execution_count": null,
   "metadata": {
    "scrolled": true
   },
   "outputs": [],
   "source": [
    "[x for x in ls if 'fine' in x]"
   ]
  },
  {
   "cell_type": "code",
   "execution_count": null,
   "metadata": {
    "scrolled": true
   },
   "outputs": [],
   "source": [
    "[(x,y) for (x,y) in enumerate(ls) if y.upper().startswith('MODU')] #retuns indices also"
   ]
  },
  {
   "cell_type": "markdown",
   "metadata": {},
   "source": [
    "<font color=blue>**Dictionary**</font>"
   ]
  },
  {
   "cell_type": "code",
   "execution_count": null,
   "metadata": {
    "scrolled": true
   },
   "outputs": [],
   "source": [
    "d = {'a':1,'b':2,'c':3,'d':4,'e':5}\n",
    "for i in d:\n",
    "    print(i,d[i])\n",
    "for (x,y) in d.items():\n",
    "    print(x,y)\n",
    "for (x,y) in enumerate(d):\n",
    "    print(x,y)"
   ]
  },
  {
   "cell_type": "code",
   "execution_count": null,
   "metadata": {
    "scrolled": true
   },
   "outputs": [],
   "source": [
    "#different ways of defining dictionary\n",
    "d = dict(a=1,b=2,c=3)\n",
    "d = dict(a='one',b='two',c='three')"
   ]
  },
  {
   "cell_type": "markdown",
   "metadata": {},
   "source": [
    "<font color=blue>**Tuple**</font>"
   ]
  },
  {
   "cell_type": "code",
   "execution_count": null,
   "metadata": {
    "scrolled": true
   },
   "outputs": [],
   "source": [
    "t = (1,2,3,4)\n",
    "for (x,y) in enumerate(t):\n",
    "    print(x,y)"
   ]
  },
  {
   "cell_type": "markdown",
   "metadata": {},
   "source": [
    "<font color=blue>**Set**</font>"
   ]
  },
  {
   "cell_type": "code",
   "execution_count": null,
   "metadata": {
    "scrolled": true
   },
   "outputs": [],
   "source": [
    "s = {1,1,2,2,3,4,5}\n",
    "t = {4,5,6}\n",
    "s.union(t)\n",
    "s.intersection(t)\n",
    "s.difference(t)\n",
    "s.symmetric_difference(t)"
   ]
  },
  {
   "cell_type": "markdown",
   "metadata": {},
   "source": [
    "<font color=blue>**For loop**</font>"
   ]
  },
  {
   "cell_type": "code",
   "execution_count": null,
   "metadata": {
    "scrolled": true
   },
   "outputs": [],
   "source": [
    "for i in range(1,5):\n",
    "    print(i)\n",
    "l = ['apples','banana','orange']\n",
    "for i in l:\n",
    "    for x in i:\n",
    "        print(x)  "
   ]
  },
  {
   "cell_type": "markdown",
   "metadata": {},
   "source": [
    "<font color=blue>**While loop**</font>"
   ]
  },
  {
   "cell_type": "code",
   "execution_count": null,
   "metadata": {
    "scrolled": true
   },
   "outputs": [],
   "source": [
    "i=0\n",
    "while(i<5):\n",
    "    print(i)\n",
    "    i = i+1"
   ]
  },
  {
   "cell_type": "markdown",
   "metadata": {},
   "source": [
    "<font color=blue>**Iterator**</font>"
   ]
  },
  {
   "cell_type": "code",
   "execution_count": null,
   "metadata": {
    "scrolled": true
   },
   "outputs": [],
   "source": [
    "s = list(range(1,5))\n",
    "x = iter(s)\n",
    "next(x)"
   ]
  },
  {
   "cell_type": "markdown",
   "metadata": {},
   "source": [
    "<font color=blue>**Generator**</font>"
   ]
  },
  {
   "cell_type": "code",
   "execution_count": null,
   "metadata": {
    "scrolled": true
   },
   "outputs": [],
   "source": [
    "s = list(range(1,5))\n",
    "g = (i**2 for i in s)\n",
    "next(g)"
   ]
  },
  {
   "cell_type": "code",
   "execution_count": null,
   "metadata": {
    "scrolled": true
   },
   "outputs": [],
   "source": [
    "#generators are a great way to optimize memory\n",
    "import sys\n",
    "nums_squared_lc = [i * 2 for i in range(10000)]\n",
    "print(sys.getsizeof(nums_squared_lc))\n",
    "\n",
    "nums_squared_gc = (i ** 2 for i in range(10000))\n",
    "print(sys.getsizeof(nums_squared_gc))"
   ]
  },
  {
   "cell_type": "markdown",
   "metadata": {},
   "source": [
    "<font color=blue>**Yield/generator function**</font>"
   ]
  },
  {
   "cell_type": "code",
   "execution_count": 2,
   "metadata": {
    "scrolled": true
   },
   "outputs": [
    {
     "name": "stdout",
     "output_type": "stream",
     "text": [
      "first\n"
     ]
    },
    {
     "data": {
      "text/plain": [
       "0"
      ]
     },
     "execution_count": 2,
     "metadata": {},
     "output_type": "execute_result"
    }
   ],
   "source": [
    "#yield maintains the state of function unlike returns\n",
    "#generator fuction example\n",
    "#Generator function contains one or more yield statements.\n",
    "#When called, it returns an object (iterator) but does not start execution immediately.\n",
    "#Once the function yields, the function is paused and the control is transferred to the caller.\n",
    "#Local variables and their states are remembered between successive calls.\n",
    "def infinite_sequence():\n",
    "    num = 0\n",
    "    print('first')\n",
    "    while True:\n",
    "        yield num\n",
    "        num += 1\n",
    "\n",
    "gen = infinite_sequence() #this doesn't execute the code\n",
    "next(gen)"
   ]
  },
  {
   "cell_type": "markdown",
   "metadata": {
    "scrolled": true
   },
   "source": [
    "<font color=blue>**Function call with different parameters**</font>"
   ]
  },
  {
   "cell_type": "code",
   "execution_count": 3,
   "metadata": {},
   "outputs": [],
   "source": [
    "def func_one(*arg):\n",
    "    'function with one parameter'\n",
    "    for i in arg:\n",
    "        print(i)\n",
    "    else:\n",
    "        print(type(arg))\n",
    "        print(arg)"
   ]
  },
  {
   "cell_type": "code",
   "execution_count": 4,
   "metadata": {},
   "outputs": [
    {
     "name": "stdout",
     "output_type": "stream",
     "text": [
      "1\n",
      "2\n",
      "3\n",
      "4\n",
      "<class 'tuple'>\n",
      "(1, 2, 3, 4)\n"
     ]
    }
   ],
   "source": [
    "func_one(1,2,3,4)"
   ]
  },
  {
   "cell_type": "code",
   "execution_count": 5,
   "metadata": {},
   "outputs": [],
   "source": [
    "def func_two(arg1,*arg2):\n",
    "    'function with two parameter'\n",
    "    print(arg1)\n",
    "    print(arg2)"
   ]
  },
  {
   "cell_type": "code",
   "execution_count": 6,
   "metadata": {},
   "outputs": [
    {
     "name": "stdout",
     "output_type": "stream",
     "text": [
      "1\n",
      "(2, 3)\n"
     ]
    }
   ],
   "source": [
    "func_two(1,2,3)"
   ]
  },
  {
   "cell_type": "code",
   "execution_count": 7,
   "metadata": {},
   "outputs": [],
   "source": [
    "def func_three(arg1,*arg2,**arg3):\n",
    "    'function with 3 parameters'\n",
    "    print(arg1)\n",
    "    print(arg2) #tuple\n",
    "    print(arg3) #dictionary\n",
    "    print(type(arg1),type(arg2),type(arg3))"
   ]
  },
  {
   "cell_type": "code",
   "execution_count": 8,
   "metadata": {},
   "outputs": [
    {
     "name": "stdout",
     "output_type": "stream",
     "text": [
      "1\n",
      "(2, 3, 4)\n",
      "{}\n",
      "<class 'int'> <class 'tuple'> <class 'dict'>\n"
     ]
    }
   ],
   "source": [
    "func_three(1,2,3,4)"
   ]
  },
  {
   "cell_type": "code",
   "execution_count": 9,
   "metadata": {},
   "outputs": [
    {
     "name": "stdout",
     "output_type": "stream",
     "text": [
      "1\n",
      "(2, 3)\n",
      "{'a': 1, 'b': 2}\n",
      "<class 'int'> <class 'tuple'> <class 'dict'>\n"
     ]
    }
   ],
   "source": [
    "func_three(1,2,3,a=1,b=2)"
   ]
  },
  {
   "cell_type": "code",
   "execution_count": 10,
   "metadata": {},
   "outputs": [
    {
     "name": "stdout",
     "output_type": "stream",
     "text": [
      "(1, 2)\n",
      "(3, 4, 5)\n",
      "{'a': 1, 'b': 2}\n",
      "<class 'tuple'> <class 'tuple'> <class 'dict'>\n"
     ]
    }
   ],
   "source": [
    "func_three((1,2),3,4,5,a=1,b=2)"
   ]
  },
  {
   "cell_type": "markdown",
   "metadata": {},
   "source": [
    "<font color=blue>**Class**</font>"
   ]
  },
  {
   "cell_type": "code",
   "execution_count": 11,
   "metadata": {},
   "outputs": [],
   "source": [
    "#simple class\n",
    "class my_class():\n",
    "    'this is test class'\n",
    "    global_var ='global_class' #global variable independent of object\n",
    "    def __init__(self,a,b):\n",
    "        self.a = a\n",
    "        self.b = b\n",
    "        self.global_var ='global_object'  #prefixing with self make it related to object"
   ]
  },
  {
   "cell_type": "code",
   "execution_count": 12,
   "metadata": {},
   "outputs": [
    {
     "name": "stdout",
     "output_type": "stream",
     "text": [
      "global_class\n",
      "first second third\n",
      "this is test class\n",
      "global_object\n",
      "global_class\n"
     ]
    }
   ],
   "source": [
    "print(my_class.global_var)\n",
    "obj1 = my_class('first','second')\n",
    "obj1.c = 'third'\n",
    "print(obj1.a,obj1.b,obj1.c)\n",
    "print(my_class.__doc__)\n",
    "print(obj1.global_var)\n",
    "print(my_class.global_var)\n",
    "# print(help(my_class))"
   ]
  },
  {
   "cell_type": "markdown",
   "metadata": {},
   "source": [
    "<font color=blue>**Class-inheritance**</font>"
   ]
  },
  {
   "cell_type": "code",
   "execution_count": 13,
   "metadata": {},
   "outputs": [],
   "source": [
    "class parentclass():\n",
    "    'this is parent class'\n",
    "    def __init__(self,a,b):\n",
    "        self.a = a\n",
    "        self.b = b\n",
    "class childclass(parentclass): #derived from parent class\n",
    "    'this is child class'\n",
    "    def __init__(self,a,b,c):\n",
    "        parentclass.__init__(self,a,b) #call constructor of parent. child has inherited from parent\n",
    "        self.c = c"
   ]
  },
  {
   "cell_type": "code",
   "execution_count": 14,
   "metadata": {},
   "outputs": [
    {
     "name": "stdout",
     "output_type": "stream",
     "text": [
      "first second third\n"
     ]
    }
   ],
   "source": [
    "childobj = childclass('first','second','third')\n",
    "print(childobj.a,childobj.b,childobj.c)"
   ]
  },
  {
   "cell_type": "markdown",
   "metadata": {},
   "source": [
    "<font color=blue>**Class-polymorphism**</font>"
   ]
  },
  {
   "cell_type": "code",
   "execution_count": 15,
   "metadata": {},
   "outputs": [],
   "source": [
    "class parentclass():\n",
    "    'this is parent class'\n",
    "    def __init__(self,a,b):\n",
    "        self.a = a\n",
    "        self.b = b\n",
    "    def parentfun(self,arg):\n",
    "        print('this is parent class',arg)\n",
    "    def commonfun(self):\n",
    "        print('this is common function from parent')\n",
    "class childclass(parentclass): #derived from parent class\n",
    "    'this is child class'\n",
    "    def __init__(self,a,b,c):\n",
    "        parentclass.__init__(self,a,b)\n",
    "        self.c = c\n",
    "    def parentfun(self,arg): #same function defined in child class\n",
    "        print('this is child class',arg)"
   ]
  },
  {
   "cell_type": "code",
   "execution_count": 16,
   "metadata": {},
   "outputs": [
    {
     "name": "stdout",
     "output_type": "stream",
     "text": [
      "this is child class child\n",
      "this is common function from parent\n"
     ]
    }
   ],
   "source": [
    "childobj = childclass('first','second','third')\n",
    "childobj.parentfun('child') #polymorphism\n",
    "childobj.commonfun() #inheritance"
   ]
  },
  {
   "cell_type": "markdown",
   "metadata": {},
   "source": [
    "<font color=blue>**Class-abstraction,encapsulation**</font>"
   ]
  },
  {
   "cell_type": "code",
   "execution_count": 17,
   "metadata": {},
   "outputs": [],
   "source": [
    "class myclass_abs():\n",
    "    var1 = 'first'\n",
    "    __var2 = 'restricted' #can only use this within class\n",
    "    def __init__(self,a):\n",
    "        self.a = a"
   ]
  },
  {
   "cell_type": "code",
   "execution_count": 18,
   "metadata": {},
   "outputs": [],
   "source": [
    "obj2 = myclass_abs('second')"
   ]
  },
  {
   "cell_type": "code",
   "execution_count": 19,
   "metadata": {},
   "outputs": [
    {
     "name": "stdout",
     "output_type": "stream",
     "text": [
      "second\n",
      "first\n"
     ]
    }
   ],
   "source": [
    "print(obj2.a)\n",
    "print(obj2.var1)\n",
    "# print(obj2.var2) #can't access this out the class"
   ]
  },
  {
   "cell_type": "markdown",
   "metadata": {},
   "source": [
    "<font color=blue>**Class-special methods**</font>"
   ]
  },
  {
   "cell_type": "code",
   "execution_count": 20,
   "metadata": {},
   "outputs": [],
   "source": [
    "class myclass():\n",
    "    def __init__(self,a,b):\n",
    "        self.a = a\n",
    "        self.b = b\n",
    "    def __str__(self): #called by print\n",
    "        return self.a+'--'+self.b\n",
    "    def __eq__(self,other): #invoked while comparing objects\n",
    "        return self.a == other.a and self.b == other.b\n",
    "#     def __lt__(self, other):\n",
    "#         pass\n",
    "#     def __gt__(self, other):\n",
    "#         pass\n",
    "#     def __ne__(self, other):\n",
    "#         pass"
   ]
  },
  {
   "cell_type": "code",
   "execution_count": 21,
   "metadata": {},
   "outputs": [
    {
     "name": "stdout",
     "output_type": "stream",
     "text": [
      "first--second\n",
      "False\n"
     ]
    }
   ],
   "source": [
    "obj1 = myclass('first','second')\n",
    "obj2 = myclass('third','forth')\n",
    "print(obj1)\n",
    "print(obj1 == obj2)"
   ]
  },
  {
   "cell_type": "markdown",
   "metadata": {},
   "source": [
    "<font color=blue>**Class and static method**</font>"
   ]
  },
  {
   "cell_type": "code",
   "execution_count": 22,
   "metadata": {},
   "outputs": [],
   "source": [
    "class myclass():\n",
    "    myvar=1 \n",
    "    def __init__(self,a,b):\n",
    "        self.a=a\n",
    "        self.b=b\n",
    "        myclass.myvar = self.a+self.b\n",
    "    @classmethod # if the method is bound to a Class and not to the object, then it is known as classmethod\n",
    "    def calc_sum(self):\n",
    "        return myclass.myvar\n",
    "    @staticmethod\n",
    "    def calc_square(x): #this function is just packaged inside the class and doesn't have any other dependency related to class\n",
    "        return x**2"
   ]
  },
  {
   "cell_type": "code",
   "execution_count": 23,
   "metadata": {},
   "outputs": [
    {
     "name": "stdout",
     "output_type": "stream",
     "text": [
      "3\n",
      "25\n",
      "64\n"
     ]
    }
   ],
   "source": [
    "obj = myclass(1,2)\n",
    "print(myclass.calc_sum()) #note this function doesn't require object to call\n",
    "print(myclass.calc_square(5)) #this function can be called via class/object\n",
    "print(obj.calc_square(8))"
   ]
  },
  {
   "cell_type": "markdown",
   "metadata": {},
   "source": [
    "<font color=blue>**Abstract class method**</font>\n",
    "- An Abstract Base Class or ABC mandates the derived classes to implement specific methods from the base class.\n",
    "- It is not possible to create an object from a defined ABC class.\n",
    "- Creating objects of derived classes is possible only when derived classes override existing functionality of all abstract methods defined in an ABC class."
   ]
  },
  {
   "cell_type": "code",
   "execution_count": 24,
   "metadata": {},
   "outputs": [],
   "source": [
    "from abc import ABC,abstractmethod\n",
    "class myclass(ABC):\n",
    "    @abstractmethod\n",
    "    def fun_sq(self):\n",
    "        pass\n",
    "    @abstractmethod\n",
    "    def fun_cub(self):\n",
    "        pass\n",
    "    "
   ]
  },
  {
   "cell_type": "code",
   "execution_count": 25,
   "metadata": {},
   "outputs": [],
   "source": [
    "class myclass_2(myclass): #this class has to define all the function mentioned in myclass\n",
    "    def __init__(self,a):\n",
    "        self.a = a\n",
    "    def fun_sq(self): #this functioned have to defined in this class\n",
    "        return self.a**2\n",
    "    def fun_cub(self):#this functioned have to defined in this class\n",
    "        return self.a**3\n",
    "       "
   ]
  },
  {
   "cell_type": "code",
   "execution_count": 26,
   "metadata": {},
   "outputs": [
    {
     "name": "stdout",
     "output_type": "stream",
     "text": [
      "4\n",
      "8\n"
     ]
    }
   ],
   "source": [
    "obj1= myclass_2(2)\n",
    "print( myclass_2(2).fun_sq())\n",
    "print( myclass_2(2).fun_cub())"
   ]
  },
  {
   "cell_type": "markdown",
   "metadata": {},
   "source": [
    "<font color=blue>**Exception handling**</font>"
   ]
  },
  {
   "cell_type": "code",
   "execution_count": 27,
   "metadata": {},
   "outputs": [
    {
     "name": "stdout",
     "output_type": "stream",
     "text": [
      "inside exception block\n",
      "division by zero\n",
      "ZeroDivisionError\n",
      "Traceback (most recent call last):\n",
      "  File \"<ipython-input-27-c5c4f96b8d9d>\", line 4, in <module>\n",
      "    1/0\n",
      "ZeroDivisionError: division by zero\n",
      "\n"
     ]
    }
   ],
   "source": [
    "#simple\n",
    "import traceback\n",
    "try:\n",
    "    1/0\n",
    "except Exception as e:\n",
    "    print('inside exception block')\n",
    "    print(e) #prints error message\n",
    "    print(type(e).__name__) #prints exception class/type\n",
    "    print(traceback.format_exc())\n",
    "  "
   ]
  },
  {
   "cell_type": "code",
   "execution_count": 28,
   "metadata": {},
   "outputs": [
    {
     "name": "stdout",
     "output_type": "stream",
     "text": [
      "numbers are same\n",
      "my customised error\n",
      "ZeroDivisionError\n",
      "inside exception block\n",
      "inside final block\n"
     ]
    }
   ],
   "source": [
    "#customised error message\n",
    "try:\n",
    "    if 1==1:\n",
    "        print('numbers are same')\n",
    "    if 1!=2:\n",
    "#         1/0\n",
    "        raise ZeroDivisionError('my customised error')\n",
    "except (ZeroDivisionError,TypeError) as e:\n",
    "    print(e)\n",
    "    print(type(e).__name__)\n",
    "    print('inside exception block')\n",
    "    #raise\n",
    "else:\n",
    "    print('inside else') #Statements under else clause are executed only when no exception occurs in try clause.\n",
    "finally:\n",
    "    print('inside final block') #All the statements under finally clause are executed irrespective of exception occurrence."
   ]
  },
  {
   "cell_type": "code",
   "execution_count": 3,
   "metadata": {},
   "outputs": [
    {
     "name": "stdout",
     "output_type": "stream",
     "text": [
      "inside exception my error message\n"
     ]
    }
   ],
   "source": [
    "#Customised error class\n",
    "class MyClassException(Exception):\n",
    "    pass\n",
    "\n",
    "try:\n",
    "    if 1==1:\n",
    "        raise MyClassException('my error message')\n",
    "except Exception as e:\n",
    "    print('inside exception',e)"
   ]
  },
  {
   "cell_type": "markdown",
   "metadata": {},
   "source": [
    "<font color=blue>**File operation**</font>"
   ]
  },
  {
   "cell_type": "code",
   "execution_count": 29,
   "metadata": {},
   "outputs": [],
   "source": [
    "fp = open('employee.csv',mode='r')\n",
    "fp.readlines() #read each line as list element\n",
    "fp.read() #read file as one string\n",
    "fp.close()"
   ]
  },
  {
   "cell_type": "code",
   "execution_count": 30,
   "metadata": {},
   "outputs": [],
   "source": [
    "#using context manager\n",
    "with open('employee.csv',mode='r') as fb:\n",
    "    fb.readlines()\n",
    "    #no need to close the file"
   ]
  },
  {
   "cell_type": "code",
   "execution_count": 31,
   "metadata": {},
   "outputs": [],
   "source": [
    "fwrite = open('write.txt','w')\n",
    "fread = open('employee.csv',mode='r')\n",
    "content = fread.readlines()\n",
    "fwrite.writelines(content)\n",
    "fwrite.close()\n",
    "fread.close()"
   ]
  },
  {
   "cell_type": "markdown",
   "metadata": {},
   "source": [
    "<font color=blue>**Database operation**</font>"
   ]
  },
  {
   "cell_type": "code",
   "execution_count": 32,
   "metadata": {},
   "outputs": [],
   "source": [
    "#create table if doesn't exist\n",
    "import sqlite3\n",
    "con = sqlite3.connect('D:\\\\TEST.db') #connection object\n",
    "cursor = con.cursor() #cursor object\n",
    "sql1 = '''DROP TABLE IF EXISTS EMPLOYEE_TEST '''\n",
    "sql2 = '''\n",
    "       CREATE TABLE EMPLOYEE_TEST (\n",
    "       EMPID INT NOT NULL,\n",
    "       NAME CHAR(20) NOT NULL,\n",
    "       AGE INT\n",
    "       )\n",
    "      '''\n",
    "cursor.execute(sql1)\n",
    "cursor.execute(sql2)\n",
    "con.close()"
   ]
  },
  {
   "cell_type": "code",
   "execution_count": 33,
   "metadata": {},
   "outputs": [],
   "source": [
    "#inserting data\n",
    "import sqlite3\n",
    "con = sqlite3.connect('D:\\\\TEST.db')\n",
    "cursor = con.cursor()\n",
    "sql = 'insert into EMPLOYEE_TEST values(?,?,?)'\n",
    "rec = (123,'empname_123',30)\n",
    "cursor.execute(sql,rec)\n",
    "con.commit()\n",
    "rec = [\n",
    "    (456,'empname_456',30),\n",
    "    (789,'empname_789',30),\n",
    "    (910,'empname_910',30)\n",
    "]\n",
    "cursor.executemany(sql,rec)\n",
    "con.commit()\n",
    "con.close()"
   ]
  },
  {
   "cell_type": "code",
   "execution_count": 34,
   "metadata": {},
   "outputs": [
    {
     "name": "stdout",
     "output_type": "stream",
     "text": [
      "(123, 'empname_123', 30)\n",
      "(456, 'empname_456', 30)\n",
      "(789, 'empname_789', 30)\n",
      "(910, 'empname_910', 30)\n"
     ]
    }
   ],
   "source": [
    "#fetching data\n",
    "import sqlite3\n",
    "con = sqlite3.connect('D:\\\\TEST.db')\n",
    "cursor = con.cursor()\n",
    "sql = '''select * from EMPLOYEE_TEST'''\n",
    "cursor.execute(sql)\n",
    "rec = cursor.fetchall()\n",
    "con.close()\n",
    "\n",
    "for i in rec:\n",
    "    print(i)"
   ]
  },
  {
   "cell_type": "code",
   "execution_count": 35,
   "metadata": {},
   "outputs": [
    {
     "name": "stderr",
     "output_type": "stream",
     "text": [
      "C:\\Users\\rahul kushwaha\\Anaconda3\\lib\\site-packages\\pandas\\core\\generic.py:2663: UserWarning: The spaces in these column names will not be changed. In pandas versions < 0.14, spaces were converted to underscores.\n",
      "  method=method,\n"
     ]
    }
   ],
   "source": [
    "#databse operations through pandas\n",
    "import pandas as pd\n",
    "import sqlite3\n",
    "con = sqlite3.connect('D:\\\\TEST.db')\n",
    "df = pd.read_csv('employee.csv')\n",
    "df.to_sql('NEW_EMP_TABLE',con=con,if_exists='replace',index=False) #create table in database\n",
    "df_new = pd.read_sql(\"select * from NEW_EMP_TABLE\",con=con)#read all data from table\n",
    "df_new = pd.read_sql('''select * from NEW_EMP_TABLE WHERE \"Gender\" like '%{}%' '''.format('M'),con=con)\n",
    "df_new.to_csv('employee_by_pandas.csv') #store data as csv"
   ]
  },
  {
   "cell_type": "markdown",
   "metadata": {},
   "source": [
    "<font color=blue>**High order function**</font>\n",
    "- A Higher Order function is a function, which is capable of doing any one of the following things:\n",
    "- It can be functioned as a data and be assigned to a variable.\n",
    "- It can accept any other function as an argument.\n",
    "- It can return a function as its result."
   ]
  },
  {
   "cell_type": "code",
   "execution_count": 36,
   "metadata": {},
   "outputs": [
    {
     "name": "stdout",
     "output_type": "stream",
     "text": [
      "<class 'function'>\n",
      "Hello world\n"
     ]
    }
   ],
   "source": [
    "#function assigned to a variable\n",
    "def say_hello():\n",
    "    return 'Hello world'\n",
    "say_hello_2 = say_hello\n",
    "print(type(say_hello_2))\n",
    "print(say_hello_2())"
   ]
  },
  {
   "cell_type": "code",
   "execution_count": 37,
   "metadata": {},
   "outputs": [
    {
     "name": "stdout",
     "output_type": "stream",
     "text": [
      "3\n"
     ]
    }
   ],
   "source": [
    "#function passed as an argument\n",
    "def add(x,y):\n",
    "    return x+y\n",
    "def myfunc(func,x,y):\n",
    "    return func(x,y)\n",
    "print(myfunc(add,1,2))"
   ]
  },
  {
   "cell_type": "code",
   "execution_count": 38,
   "metadata": {},
   "outputs": [
    {
     "name": "stdout",
     "output_type": "stream",
     "text": [
      "inner\n"
     ]
    }
   ],
   "source": [
    "#function returning a function\n",
    "def outer(s):\n",
    "    def inner():\n",
    "        s='inner'\n",
    "        return s\n",
    "    return inner()\n",
    "print(outer('outer'))"
   ]
  },
  {
   "cell_type": "markdown",
   "metadata": {},
   "source": [
    "<font color=blue>**Decorator**</font>\n",
    "- decorator function is a higher order function that takes a function as an argument and returns the inner function.\n",
    "- decorator is capable of adding extra functionality to an existing function, without altering it.\n"
   ]
  },
  {
   "cell_type": "code",
   "execution_count": 39,
   "metadata": {},
   "outputs": [],
   "source": [
    "def outer(func):\n",
    "    def inner():\n",
    "        print('You are accessing function=> '+func.__name__)\n",
    "        return func()\n",
    "    return inner #can't use inner() otheriwse the function inner will get executed\n",
    "@outer #decorator\n",
    "def goodmorning():\n",
    "    return 'good__morning'\n",
    "@outer #decorator\n",
    "def goodnight():\n",
    "    return 'good_night'"
   ]
  },
  {
   "cell_type": "code",
   "execution_count": 40,
   "metadata": {},
   "outputs": [
    {
     "name": "stdout",
     "output_type": "stream",
     "text": [
      "You are accessing function=> goodmorning\n",
      "good__morning\n",
      "You are accessing function=> goodnight\n",
      "good_night\n"
     ]
    }
   ],
   "source": [
    "print(goodmorning())\n",
    "print(goodnight())"
   ]
  },
  {
   "cell_type": "markdown",
   "metadata": {},
   "source": [
    "<font color=blue>**Coroutine**</font>\n",
    "- A Coroutine is generator which is capable of constantly receiving input data, process input data and may or may not return any output.\n",
    "- Coroutines are majorly used to build better Data Processing Pipelines."
   ]
  },
  {
   "cell_type": "code",
   "execution_count": 41,
   "metadata": {},
   "outputs": [],
   "source": [
    "#coroutines\n",
    "def my_coroutine_simple():\n",
    "    message_counter = 0\n",
    "    try:\n",
    "        print('hello')\n",
    "        while True:\n",
    "            received = yield\n",
    "            if received:\n",
    "                message_counter = message_counter + 1\n",
    "            print('Received:', received)\n",
    "            print('message_counter:', message_counter)\n",
    "    except (GeneratorExit,TypeError) as e:\n",
    "        print('Inside exception block',type(e).__name__)"
   ]
  },
  {
   "cell_type": "code",
   "execution_count": 42,
   "metadata": {},
   "outputs": [],
   "source": [
    "coroutine = my_coroutine_simple()"
   ]
  },
  {
   "cell_type": "code",
   "execution_count": 43,
   "metadata": {},
   "outputs": [
    {
     "name": "stdout",
     "output_type": "stream",
     "text": [
      "hello\n"
     ]
    }
   ],
   "source": [
    "next(coroutine)"
   ]
  },
  {
   "cell_type": "code",
   "execution_count": 44,
   "metadata": {},
   "outputs": [
    {
     "name": "stdout",
     "output_type": "stream",
     "text": [
      "Received: None\n",
      "message_counter: 0\n"
     ]
    }
   ],
   "source": [
    "next(coroutine)"
   ]
  },
  {
   "cell_type": "code",
   "execution_count": 45,
   "metadata": {},
   "outputs": [
    {
     "name": "stdout",
     "output_type": "stream",
     "text": [
      "Received: This is test message 1\n",
      "message_counter: 1\n",
      "Received: This is test message 2\n",
      "message_counter: 2\n"
     ]
    }
   ],
   "source": [
    "coroutine.send('This is test message 1')\n",
    "coroutine.send('This is test message 2')"
   ]
  },
  {
   "cell_type": "code",
   "execution_count": 46,
   "metadata": {},
   "outputs": [
    {
     "name": "stdout",
     "output_type": "stream",
     "text": [
      "Inside exception block GeneratorExit\n"
     ]
    }
   ],
   "source": [
    "coroutine.close() #when close statement is executed then statements below GeneratorExit are executed"
   ]
  },
  {
   "cell_type": "code",
   "execution_count": 47,
   "metadata": {},
   "outputs": [],
   "source": [
    "#coroutine with decorator\n",
    "def outer(func):\n",
    "    def inner(arg1):\n",
    "        print('Function: '+func.__name__+' is called with '+arg1)\n",
    "        c = func(arg1)\n",
    "        next(c)\n",
    "        return c\n",
    "    return inner\n",
    "@outer\n",
    "def coroutine_with_decorator(arg1):\n",
    "    msg_counter = 0\n",
    "    while True:\n",
    "        received = yield\n",
    "        if received: msg_counter= msg_counter+1\n",
    "        print(received)\n",
    "        print('msg_counter',msg_counter)"
   ]
  },
  {
   "cell_type": "code",
   "execution_count": 48,
   "metadata": {},
   "outputs": [
    {
     "name": "stdout",
     "output_type": "stream",
     "text": [
      "Function: coroutine_with_decorator is called with Hello Coroutine\n",
      "1st message\n",
      "msg_counter 1\n",
      "2nd message\n",
      "msg_counter 2\n",
      "None\n",
      "msg_counter 2\n",
      "3rd message\n",
      "msg_counter 3\n"
     ]
    }
   ],
   "source": [
    "# c = coroutine_with_decorator('arg1')\n",
    "# next(c)\n",
    "# c.send('1st message')\n",
    "c = coroutine_with_decorator('Hello Coroutine') #decorator function will be called once during this statement\n",
    "c.send('1st message') #decorator function will not be called here\n",
    "c.send('2nd message')\n",
    "next(c)\n",
    "c.send('3rd message')"
   ]
  },
  {
   "cell_type": "markdown",
   "metadata": {},
   "source": [
    "<font color=blue>**Data pipeline**</font>\n",
    "\n",
    "send data=>do checks => print it"
   ]
  },
  {
   "cell_type": "code",
   "execution_count": 49,
   "metadata": {},
   "outputs": [],
   "source": [
    "#coroutine with decorator\n",
    "def outer(func):\n",
    "    def inner(arg1):\n",
    "        print('Function called is: '+func.__name__)\n",
    "        c = func(arg1)\n",
    "        next(c)\n",
    "        return c\n",
    "    return inner\n",
    "@outer\n",
    "def coroutine_print(arg1):\n",
    "    msg_counter = 0\n",
    "    while True:\n",
    "        received = yield\n",
    "        if received: msg_counter= msg_counter+1\n",
    "        print(received)\n",
    "        print('msg_counter',msg_counter)\n",
    "def sender(cor,arg):\n",
    "    for i in arg:\n",
    "        cor.send(i)\n",
    "@outer\n",
    "def check_list(cor):\n",
    "    chk = ['a','e','i','o','u','v']\n",
    "    while True:\n",
    "        value = yield\n",
    "        if value in chk:\n",
    "#             print('value=',value)\n",
    "            cor.send(value)"
   ]
  },
  {
   "cell_type": "code",
   "execution_count": 50,
   "metadata": {},
   "outputs": [
    {
     "name": "stdout",
     "output_type": "stream",
     "text": [
      "Function called is: coroutine_print\n",
      "Function called is: check_list\n",
      "a\n",
      "msg_counter 1\n",
      "e\n",
      "msg_counter 2\n",
      "i\n",
      "msg_counter 3\n"
     ]
    }
   ],
   "source": [
    "c = coroutine_print('my arguments')\n",
    "chk_l = check_list(c)\n",
    "sender(chk_l,'abcdefghijkl')"
   ]
  },
  {
   "cell_type": "markdown",
   "metadata": {},
   "source": [
    "<font color=blue>**Behaviour of IF clause with 0**</font>"
   ]
  },
  {
   "cell_type": "code",
   "execution_count": 51,
   "metadata": {},
   "outputs": [
    {
     "name": "stdout",
     "output_type": "stream",
     "text": [
      "1\n",
      "-1\n",
      "A\n",
      "True\n"
     ]
    }
   ],
   "source": [
    "if 0:\n",
    "    print('0')\n",
    "if 1:\n",
    "    print('1')\n",
    "if -1:\n",
    "    print('-1')\n",
    "if 'A':\n",
    "    print('A')\n",
    "if True:\n",
    "    print('True')\n",
    "if False:\n",
    "    print('False')"
   ]
  },
  {
   "cell_type": "markdown",
   "metadata": {},
   "source": [
    "<font color=blue>**Global/Local variables**</font>"
   ]
  },
  {
   "cell_type": "code",
   "execution_count": 52,
   "metadata": {},
   "outputs": [
    {
     "name": "stdout",
     "output_type": "stream",
     "text": [
      "I am global\n",
      "I am local to function\n",
      "inside exception=> NameError\n",
      "name 'y' is not defined\n"
     ]
    }
   ],
   "source": [
    "try:\n",
    "    x = 'I am global'\n",
    "    def test():\n",
    "        y = 'I am local to function'\n",
    "        print(y)\n",
    "\n",
    "    print(x)\n",
    "    test()\n",
    "    print(y) #this will give you error because y is local to function\n",
    "except Exception as e:\n",
    "    print('inside exception=> '+ str(type(e).__name__))\n",
    "    print(e)"
   ]
  },
  {
   "cell_type": "code",
   "execution_count": 53,
   "metadata": {},
   "outputs": [
    {
     "name": "stdout",
     "output_type": "stream",
     "text": [
      "I am local to function\n",
      "I am global\n"
     ]
    }
   ],
   "source": [
    "try:\n",
    "    x = 'I am global'\n",
    "    def test():\n",
    "        y = 'I am local to function'\n",
    "        print(y)\n",
    "        print(x) #this is global and can be used inside function\n",
    "    \n",
    "    test()\n",
    "except Exception as e:\n",
    "    print('inside exception=> '+ str(type(e).__name__))\n",
    "    print(e)"
   ]
  },
  {
   "cell_type": "code",
   "execution_count": 54,
   "metadata": {},
   "outputs": [
    {
     "name": "stdout",
     "output_type": "stream",
     "text": [
      "inside exception=> UnboundLocalError\n",
      "local variable 'x' referenced before assignment\n"
     ]
    }
   ],
   "source": [
    "try:\n",
    "    x = 'I am global'\n",
    "    def test():\n",
    "        x = x +' Modified' #this will give you error as x is being treated as local variable. Hence it requires definition\n",
    "        y = 'I am local to function'\n",
    "        print(y)\n",
    "        print(x) \n",
    "    \n",
    "    test()\n",
    "except Exception as e:\n",
    "    print('inside exception=> '+ str(type(e).__name__))\n",
    "    print(e)"
   ]
  },
  {
   "cell_type": "code",
   "execution_count": 55,
   "metadata": {},
   "outputs": [
    {
     "name": "stdout",
     "output_type": "stream",
     "text": [
      "I am local to function\n",
      "I am global Modified\n"
     ]
    }
   ],
   "source": [
    "try:\n",
    "    x = 'I am global'\n",
    "    def test():\n",
    "        global x #you need to specify global keyword if you have to modify global variable inside function.\n",
    "        x = x +' Modified'\n",
    "        y = 'I am local to function'\n",
    "        print(y)\n",
    "        print(x) \n",
    "    \n",
    "    test()\n",
    "except Exception as e:\n",
    "    print('inside exception=> '+ str(type(e).__name__))\n",
    "    print(e)"
   ]
  },
  {
   "cell_type": "markdown",
   "metadata": {},
   "source": [
    "<font color=blue>**Map function**</font>\n",
    "\n",
    "Map function requires two input and returns a map object which is an iterator\n",
    "\n",
    "map(function,list/tuple)\n",
    "\n",
    "function is applied to each element of the list/tuple/set"
   ]
  },
  {
   "cell_type": "code",
   "execution_count": 9,
   "metadata": {},
   "outputs": [],
   "source": [
    "#define a function\n",
    "def square(n):\n",
    "    return n*2\n",
    "\n",
    "v_list = [1,2,3,4,5]"
   ]
  },
  {
   "cell_type": "code",
   "execution_count": 10,
   "metadata": {},
   "outputs": [
    {
     "data": {
      "text/plain": [
       "<map at 0x23ee78c4748>"
      ]
     },
     "execution_count": 10,
     "metadata": {},
     "output_type": "execute_result"
    }
   ],
   "source": [
    "map(square,v_list)"
   ]
  },
  {
   "cell_type": "code",
   "execution_count": 11,
   "metadata": {},
   "outputs": [
    {
     "name": "stdout",
     "output_type": "stream",
     "text": [
      "[2, 4, 6, 8, 10]\n"
     ]
    }
   ],
   "source": [
    "print(list(map(square,v_list)))"
   ]
  },
  {
   "cell_type": "code",
   "execution_count": 12,
   "metadata": {},
   "outputs": [
    {
     "data": {
      "text/plain": [
       "[6, 7, 8, 9, 10]"
      ]
     },
     "execution_count": 12,
     "metadata": {},
     "output_type": "execute_result"
    }
   ],
   "source": [
    "list(map(lambda x:x+5,v_list))"
   ]
  },
  {
   "cell_type": "markdown",
   "metadata": {},
   "source": [
    "<font color=blue>**filter function**</font>\n",
    "\n",
    "filter(function,list/tuple)\n",
    "\n",
    "Input filter function should return true/false to filter the elements of list/tuple"
   ]
  },
  {
   "cell_type": "code",
   "execution_count": 14,
   "metadata": {},
   "outputs": [],
   "source": [
    "def divide_by_3(n):\n",
    "    if n%3 == 0:\n",
    "        return True\n",
    "    else:\n",
    "        return False"
   ]
  },
  {
   "cell_type": "code",
   "execution_count": 15,
   "metadata": {},
   "outputs": [],
   "source": [
    "v_list = [3,4,5,6,7,8,9,10,11,12,13,14,15]"
   ]
  },
  {
   "cell_type": "code",
   "execution_count": 16,
   "metadata": {},
   "outputs": [
    {
     "data": {
      "text/plain": [
       "[3, 6, 9, 12, 15]"
      ]
     },
     "execution_count": 16,
     "metadata": {},
     "output_type": "execute_result"
    }
   ],
   "source": [
    "list(filter(divide_by_3,v_list))"
   ]
  },
  {
   "cell_type": "markdown",
   "metadata": {},
   "source": [
    "##### Python Test Module"
   ]
  },
  {
   "cell_type": "markdown",
   "metadata": {},
   "source": [
    "##### doctest"
   ]
  },
  {
   "cell_type": "code",
   "execution_count": 1,
   "metadata": {},
   "outputs": [],
   "source": [
    "def test_docttest(n):\n",
    "    '''\n",
    ">>> test_docttest(5)\n",
    "25\n",
    ">>> test_docttest(6)\n",
    "36\n",
    ">>> test_docttest(4)\n",
    "16\n",
    ">>> test_docttest(7)\n",
    "49\n",
    ">>> test_docttest('r')\n",
    "Traceback (most recent call last):\n",
    "TypeError: unsupported operand type(s) for ** or pow(): 'str' and 'int'\n",
    "    '''\n",
    "    return n**2"
   ]
  },
  {
   "cell_type": "markdown",
   "metadata": {},
   "source": [
    "command to execute doctest\n",
    "\n",
    "**command**\n",
    "\n",
    "\"C:\\Users\\yourpath\\python\" -m doctest -v learn_doctest.py"
   ]
  },
  {
   "cell_type": "markdown",
   "metadata": {},
   "source": [
    "Trying:\n",
    "    test_docttest(5)\n",
    "Expecting:\n",
    "    25\n",
    "ok\n",
    "Trying:\n",
    "    test_docttest(6)\n",
    "Expecting:\n",
    "    36\n",
    "ok\n",
    "Trying:\n",
    "    test_docttest(4)\n",
    "Expecting:\n",
    "    16\n",
    "ok\n",
    "Trying:\n",
    "    test_docttest(7)\n",
    "Expecting:\n",
    "    49\n",
    "ok\n",
    "Trying:\n",
    "    test_docttest('r')\n",
    "Expecting:\n",
    "    Traceback (most recent call last):\n",
    "    TypeError: unsupported operand type(s) for ** or pow(): 'str' and 'int'\n",
    "ok\n",
    "1 items had no tests:\n",
    "    learn_doctest\n",
    "1 items passed all tests:\n",
    "   5 tests in learn_doctest.test_docttest\n",
    "5 tests in 2 items.\n",
    "5 passed and 0 failed.\n",
    "Test passed."
   ]
  },
  {
   "cell_type": "markdown",
   "metadata": {},
   "source": [
    "**PyTest**"
   ]
  },
  {
   "cell_type": "code",
   "execution_count": 3,
   "metadata": {},
   "outputs": [],
   "source": [
    "from pytest import main\n",
    "\n",
    "class MobileInventory():\n",
    "    def __init__(self,inventory={}):\n",
    "        \n",
    "        # if inventory is None:\n",
    "        #     self.balance_inventory = {'a':1}\n",
    "        #     print(type(self.balance_inventory).__name__)\n",
    "        if not isinstance(inventory,dict):\n",
    "            raise TypeError(\"Input inventory must be a dictionary\")\n",
    "        elif isinstance(inventory,dict):\n",
    "            for i in inventory:\n",
    "                if not isinstance(i,str):\n",
    "                    raise ValueError(\"Mobile model name must be a string\")\n",
    "            for j in inventory:\n",
    "                if not ( isinstance(inventory[j],int) and  inventory[j] > 0):\n",
    "                    raise ValueError(\"No. of mobiles must be a positive integer\")\n",
    "        \n",
    "        self.balance_inventory = inventory\n",
    "        \n",
    "import pytest\n",
    "\n",
    "class TestingInventoryCreation:\n",
    "    \n",
    "    def test_creating_empty_inventory(self):\n",
    "        mob = MobileInventory()\n",
    "        assert type(mob.balance_inventory).__name__ == 'dict' and bool(mob.balance_inventory) == False\n",
    "        \n",
    "    def test_creating_specified_inventory(self):\n",
    "        mob = MobileInventory({'iPhone Model X':100, 'Xiaomi Model Y': 1000, 'Nokia Model Z':25})\n",
    "    \n",
    "    def test_creating_inventory_with_list(self):\n",
    "        with pytest.raises(TypeError) as e:\n",
    "            mob = MobileInventory(['iPhone Model X', 'Xiaomi Model Y', 'Nokia Model Z'])\n",
    "        assert str(e.value) == 'Input inventory must be a dictionary'\n",
    "        \n",
    "    def test_creating_inventory_with_numeric_keys(self):\n",
    "        with pytest.raises(ValueError) as e:\n",
    "            mob = MobileInventory({1:'iPhone Model X', 2:'Xiaomi Model Y', 3:'Nokia Model Z'})\n",
    "        assert str(e.value) == 'Mobile model name must be a string'\n",
    "        \n",
    "    def test_creating_inventory_with_nonnumeric_values(self):\n",
    "        with pytest.raises(ValueError) as e:\n",
    "            mob = MobileInventory({'iPhone Model X':'100', 'Xiaomi Model Y': '1000', 'Nokia Model Z':'25'})\n",
    "        assert str(e.value) == 'No. of mobiles must be a positive integer'\n",
    "        \n",
    "    def test_creating_inventory_with_negative_value(self):\n",
    "        with pytest.raises(ValueError) as e:\n",
    "            mob = MobileInventory({'iPhone Model X':-45, 'Xiaomi Model Y': 200, 'Nokia Model Z':25})\n",
    "        assert str(e.value) == 'No. of mobiles must be a positive integer'\n",
    "\n",
    "# main(['{}::{}'.format(__file__, TestingInventoryCreation.__name__)]) \n",
    "\n",
    "# ============================= test session starts =============================\n",
    "# platform win32 -- Python 3.7.4, pytest-5.4.3, py-1.9.0, pluggy-0.13.1\n",
    "# rootdir: C:\\Users\\rahul kushwaha\\Desktop\\ML\\Python\\doctest\\pytest\n",
    "# plugins: hypothesis-5.18.3, arraydiff-0.3, astropy-header-0.1.2, doctestplus-0.7.0, openfiles-0.5.0, remotedata-0.3.2\n",
    "# collected 6 items\n",
    "\n",
    "# sample_pytest_test.py ......                                             [100%]\n",
    "\n",
    "# ============================== warnings summary ===============================\n",
    "# C:\\Users\\rahul kushwaha\\Anaconda3\\lib\\site-packages\\_pytest\\compat.py:333\n",
    "#   C:\\Users\\rahul kushwaha\\Anaconda3\\lib\\site-packages\\_pytest\\compat.py:333: PytestDeprecationWarning: The TerminalReporter.writer attribute is deprecated, use TerminalReporter._tw instead at your own risk.\n",
    "#   See https://docs.pytest.org/en/latest/deprecations.html#terminalreporter-writer for more information.\n",
    "#     return getattr(object, name, default)\n",
    "\n",
    "# -- Docs: https://docs.pytest.org/en/latest/warnings.html\n",
    "# ======================== 6 passed, 1 warning in 0.52s ========================="
   ]
  }
 ],
 "metadata": {
  "kernelspec": {
   "display_name": "Python 3",
   "language": "python",
   "name": "python3"
  },
  "language_info": {
   "codemirror_mode": {
    "name": "ipython",
    "version": 3
   },
   "file_extension": ".py",
   "mimetype": "text/x-python",
   "name": "python",
   "nbconvert_exporter": "python",
   "pygments_lexer": "ipython3",
   "version": "3.7.4"
  }
 },
 "nbformat": 4,
 "nbformat_minor": 4
}
