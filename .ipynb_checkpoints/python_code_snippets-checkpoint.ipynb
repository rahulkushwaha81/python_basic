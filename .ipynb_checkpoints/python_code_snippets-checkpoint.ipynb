{
 "cells": [
  {
   "cell_type": "markdown",
   "metadata": {},
   "source": [
    "### Below code snippets cover different concepts of python"
   ]
  },
  {
   "cell_type": "markdown",
   "metadata": {},
   "source": [
    "<font color=blue>**Datatypes in python:**</font>\n",
    "\n",
    "datatype => int,float, boolean\n",
    "\n",
    "sequence types => str, bytes, bytearray, list, tuple, range,set\n",
    "\n",
    "mutable => list,dict,bytearray,set\n",
    "\n",
    "immutable => int,float,str,bytes,tuple"
   ]
  },
  {
   "cell_type": "markdown",
   "metadata": {},
   "source": [
    "<font color=blue>**Mutable/Immutable:**</font>"
   ]
  },
  {
   "cell_type": "code",
   "execution_count": null,
   "metadata": {
    "scrolled": true
   },
   "outputs": [],
   "source": [
    "#example of immutable\n",
    "s = 'banana' #string is immutable\n",
    "s[0] = 'e' #this will give you error"
   ]
  },
  {
   "cell_type": "code",
   "execution_count": null,
   "metadata": {
    "scrolled": true
   },
   "outputs": [],
   "source": [
    "#example of mutable\n",
    "x = bytearray('this is string',encoding='utf-8')\n",
    "x[0]=97 #no error\n",
    "print(x)"
   ]
  },
  {
   "cell_type": "markdown",
   "metadata": {},
   "source": [
    "<font color=blue>**bytes**</font>"
   ]
  },
  {
   "cell_type": "code",
   "execution_count": null,
   "metadata": {
    "scrolled": true
   },
   "outputs": [],
   "source": [
    "s = b'abcd' #immutable\n",
    "print(type(s))\n",
    "print(s[0])"
   ]
  },
  {
   "cell_type": "code",
   "execution_count": null,
   "metadata": {
    "scrolled": true
   },
   "outputs": [],
   "source": [
    "#string to bytes\n",
    "b = bytes('蓏콯캁澽苏',encoding='utf-8')\n",
    "print(b)\n",
    "#bytes to string\n",
    "print(b.decode('utf-8'))\n",
    "b[1]=234 #immutable will give you error"
   ]
  },
  {
   "cell_type": "markdown",
   "metadata": {},
   "source": [
    "<font color=blue>**misc Functions**</font>"
   ]
  },
  {
   "cell_type": "code",
   "execution_count": null,
   "metadata": {
    "scrolled": true
   },
   "outputs": [],
   "source": [
    "#strip\n",
    "txt = \",,,,,rrttgg.....banana....rrr\"\n",
    "x = txt.strip(\",.grt\") #strip whitespace if no parameter is given\n",
    "print(x)"
   ]
  },
  {
   "cell_type": "code",
   "execution_count": null,
   "metadata": {
    "scrolled": true
   },
   "outputs": [],
   "source": [
    "#split\n",
    "str1 = 'The constants defined in this module are'\n",
    "x =  str1.split()\n",
    "print(x)"
   ]
  },
  {
   "cell_type": "code",
   "execution_count": null,
   "metadata": {
    "scrolled": true
   },
   "outputs": [],
   "source": [
    "#print\n",
    "print('print this {} and then print this {}'.format(1,2))\n",
    "print('print this {x} and then print this {y}'.format(x=1.00567,y=2))"
   ]
  },
  {
   "cell_type": "markdown",
   "metadata": {},
   "source": [
    "<font color=blue>**list**</font>"
   ]
  },
  {
   "cell_type": "code",
   "execution_count": null,
   "metadata": {
    "scrolled": true
   },
   "outputs": [],
   "source": [
    "ls = list(range(1,10))\n",
    "ls.append('1')\n",
    "ls.append(list('rahul'))\n",
    "#ls.sort()\n",
    "ls[2:5]\n",
    "ls[::-1] #to reverse\n",
    "ls[0::2]\n",
    "ls.remove('1')\n",
    "ls.pop()\n",
    "#You cannot copy a list simply by typing list2 = list1, because: list2 will only be \n",
    "#a reference to list1, and changes made in list1 will automatically \n",
    "#also be made in list2."
   ]
  },
  {
   "cell_type": "code",
   "execution_count": null,
   "metadata": {},
   "outputs": [],
   "source": [
    "str1 = 'The constants defined in this module are'\n",
    "l =  str1.split()\n",
    "'|'.join(l)"
   ]
  },
  {
   "cell_type": "markdown",
   "metadata": {},
   "source": [
    "<font color=blue>**list Comprehension**</font>"
   ]
  },
  {
   "cell_type": "code",
   "execution_count": null,
   "metadata": {
    "scrolled": true
   },
   "outputs": [],
   "source": [
    "str1 = 'The constants defined in this module are'\n",
    "ls = str1.split()\n",
    "[x for x in ls if x.upper().startswith('THIS')]"
   ]
  },
  {
   "cell_type": "code",
   "execution_count": null,
   "metadata": {
    "scrolled": true
   },
   "outputs": [],
   "source": [
    "[x for x in ls if 'fine' in x]"
   ]
  },
  {
   "cell_type": "code",
   "execution_count": null,
   "metadata": {
    "scrolled": true
   },
   "outputs": [],
   "source": [
    "[(x,y) for (x,y) in enumerate(ls) if y.upper().startswith('MODU')] #retuns indices also"
   ]
  },
  {
   "cell_type": "markdown",
   "metadata": {},
   "source": [
    "<font color=blue>**dictionary**</font>"
   ]
  },
  {
   "cell_type": "code",
   "execution_count": null,
   "metadata": {
    "scrolled": true
   },
   "outputs": [],
   "source": [
    "d = {'a':1,'b':2,'c':3,'d':4,'e':5}\n",
    "for i in d:\n",
    "    print(i,d[i])\n",
    "for (x,y) in d.items():\n",
    "    print(x,y)\n",
    "for (x,y) in enumerate(d):\n",
    "    print(x,y)"
   ]
  },
  {
   "cell_type": "code",
   "execution_count": null,
   "metadata": {
    "scrolled": true
   },
   "outputs": [],
   "source": [
    "#different ways of defining dictionary\n",
    "d = dict(a=1,b=2,c=3)\n",
    "d = dict(a='one',b='two',c='three')"
   ]
  },
  {
   "cell_type": "markdown",
   "metadata": {},
   "source": [
    "<font color=blue>**tuple**</font>"
   ]
  },
  {
   "cell_type": "code",
   "execution_count": null,
   "metadata": {
    "scrolled": true
   },
   "outputs": [],
   "source": [
    "t = (1,2,3,4)\n",
    "for (x,y) in enumerate(t):\n",
    "    print(x,y)"
   ]
  },
  {
   "cell_type": "markdown",
   "metadata": {},
   "source": [
    "<font color=blue>**set**</font>"
   ]
  },
  {
   "cell_type": "code",
   "execution_count": null,
   "metadata": {
    "scrolled": true
   },
   "outputs": [],
   "source": [
    "s = {1,1,2,2,3,4,5}\n",
    "t = {4,5,6}\n",
    "s.union(t)\n",
    "s.intersection(t)\n",
    "s.difference(t)\n",
    "s.symmetric_difference(t)"
   ]
  },
  {
   "cell_type": "markdown",
   "metadata": {},
   "source": [
    "<font color=blue>**for loop**</font>"
   ]
  },
  {
   "cell_type": "code",
   "execution_count": null,
   "metadata": {
    "scrolled": true
   },
   "outputs": [],
   "source": [
    "for i in range(1,5):\n",
    "    print(i)\n",
    "l = ['apples','banana','orange']\n",
    "for i in l:\n",
    "    for x in i:\n",
    "        print(x)  "
   ]
  },
  {
   "cell_type": "markdown",
   "metadata": {},
   "source": [
    "<font color=blue>**while loop**</font>"
   ]
  },
  {
   "cell_type": "code",
   "execution_count": null,
   "metadata": {
    "scrolled": true
   },
   "outputs": [],
   "source": [
    "i=0\n",
    "while(i<5):\n",
    "    print(i)\n",
    "    i = i+1"
   ]
  },
  {
   "cell_type": "markdown",
   "metadata": {},
   "source": [
    "<font color=blue>**iterator**</font>"
   ]
  },
  {
   "cell_type": "code",
   "execution_count": null,
   "metadata": {
    "scrolled": true
   },
   "outputs": [],
   "source": [
    "s = list(range(1,5))\n",
    "x = iter(s)\n",
    "next(x)"
   ]
  },
  {
   "cell_type": "markdown",
   "metadata": {},
   "source": [
    "<font color=blue>**generator**</font>"
   ]
  },
  {
   "cell_type": "code",
   "execution_count": null,
   "metadata": {
    "scrolled": true
   },
   "outputs": [],
   "source": [
    "\n",
    "s = list(range(1,5))\n",
    "g = (i**2 for i in s)\n",
    "next(g)"
   ]
  },
  {
   "cell_type": "code",
   "execution_count": null,
   "metadata": {
    "scrolled": true
   },
   "outputs": [],
   "source": [
    "#generators are a great way to optimize memory\n",
    "import sys\n",
    "nums_squared_lc = [i * 2 for i in range(10000)]\n",
    "print(sys.getsizeof(nums_squared_lc))\n",
    "\n",
    "nums_squared_gc = (i ** 2 for i in range(10000))\n",
    "print(sys.getsizeof(nums_squared_gc))"
   ]
  },
  {
   "cell_type": "markdown",
   "metadata": {},
   "source": [
    "<font color=blue>**yield**</font>"
   ]
  },
  {
   "cell_type": "code",
   "execution_count": null,
   "metadata": {
    "scrolled": true
   },
   "outputs": [],
   "source": [
    "#yield maintains the state of function unlike returns\n",
    "def infinite_sequence():\n",
    "    num = 0\n",
    "    print('first')\n",
    "    while True:\n",
    "        yield num\n",
    "        num += 1\n",
    "\n",
    "gen = infinite_sequence() #this doesn't execute the code\n",
    "next(gen)"
   ]
  },
  {
   "cell_type": "code",
   "execution_count": null,
   "metadata": {
    "scrolled": true
   },
   "outputs": [],
   "source": [
    "#coroutines\n",
    "def my_coroutine():\n",
    "    print('hello')\n",
    "    while True:\n",
    "        print('hello 1')\n",
    "        received = yield        \n",
    "        print('Received:', received)\n"
   ]
  },
  {
   "cell_type": "code",
   "execution_count": null,
   "metadata": {
    "scrolled": true
   },
   "outputs": [],
   "source": [
    "it = my_coroutine()"
   ]
  },
  {
   "cell_type": "code",
   "execution_count": null,
   "metadata": {
    "scrolled": true
   },
   "outputs": [],
   "source": [
    "next(it)"
   ]
  },
  {
   "cell_type": "code",
   "execution_count": null,
   "metadata": {
    "scrolled": true
   },
   "outputs": [],
   "source": [
    "it.send('00')"
   ]
  },
  {
   "cell_type": "markdown",
   "metadata": {
    "scrolled": true
   },
   "source": [
    "<font color=blue>**function call with different parameters**</font>"
   ]
  },
  {
   "cell_type": "code",
   "execution_count": null,
   "metadata": {},
   "outputs": [],
   "source": [
    "def func_one(*arg):\n",
    "    'function with one parameter'\n",
    "    for i in arg:\n",
    "        print(i)\n",
    "    else:\n",
    "        print(type(arg))\n",
    "        print(arg)"
   ]
  },
  {
   "cell_type": "code",
   "execution_count": null,
   "metadata": {},
   "outputs": [],
   "source": [
    "func_one(1,2,3,4)"
   ]
  },
  {
   "cell_type": "code",
   "execution_count": null,
   "metadata": {},
   "outputs": [],
   "source": [
    "def func_two(arg1,*arg2):\n",
    "    'function with two parameter'\n",
    "    print(arg1)\n",
    "    print(arg2)"
   ]
  },
  {
   "cell_type": "code",
   "execution_count": null,
   "metadata": {},
   "outputs": [],
   "source": [
    "func_two(1,2,3)"
   ]
  },
  {
   "cell_type": "code",
   "execution_count": null,
   "metadata": {},
   "outputs": [],
   "source": [
    "def func_three(arg1,*arg2,**arg3):\n",
    "    'function with 3 parameters'\n",
    "    print(arg1)\n",
    "    print(arg2) #tuple\n",
    "    print(arg3) #dictionary\n",
    "    print(type(arg1),type(arg2),type(arg3))"
   ]
  },
  {
   "cell_type": "code",
   "execution_count": null,
   "metadata": {},
   "outputs": [],
   "source": [
    "func_three(1,2,3,4)"
   ]
  },
  {
   "cell_type": "code",
   "execution_count": null,
   "metadata": {},
   "outputs": [],
   "source": [
    "func_three(1,2,3,a=1,b=2)"
   ]
  },
  {
   "cell_type": "code",
   "execution_count": null,
   "metadata": {},
   "outputs": [],
   "source": [
    "func_three((1,2),3,4,5,a=1,b=2)"
   ]
  },
  {
   "cell_type": "markdown",
   "metadata": {},
   "source": [
    "<font color=blue>**class**</font>"
   ]
  },
  {
   "cell_type": "code",
   "execution_count": null,
   "metadata": {},
   "outputs": [],
   "source": [
    "#simple class\n",
    "class my_class():\n",
    "    'this is test class'\n",
    "    def __init__(self,a,b):\n",
    "        self.a = a\n",
    "        self.b = b"
   ]
  },
  {
   "cell_type": "code",
   "execution_count": null,
   "metadata": {},
   "outputs": [],
   "source": [
    "obj1 = my_class('first','second')\n",
    "obj1.c = 'third'\n",
    "print(obj1.a,obj1.b,obj1.c,obj1)\n",
    "print(my_class.__doc__)\n",
    "print(help(my_class))"
   ]
  },
  {
   "cell_type": "markdown",
   "metadata": {},
   "source": [
    "<font color=blue>**class-inheritance**</font>"
   ]
  },
  {
   "cell_type": "code",
   "execution_count": null,
   "metadata": {},
   "outputs": [],
   "source": [
    "class parentclass():\n",
    "    'this is parent class'\n",
    "    def __init__(self,a,b):\n",
    "        self.a = a\n",
    "        self.b = b\n",
    "class childclass(parentclass): #derived from parent class\n",
    "    'this is child class'\n",
    "    def __init__(self,a,b,c):\n",
    "        parentclass.__init__(self,a,b) #call constructor of parent. child has inherited from parent\n",
    "        self.c = c"
   ]
  },
  {
   "cell_type": "code",
   "execution_count": null,
   "metadata": {},
   "outputs": [],
   "source": [
    "childobj = childclass('first','second','third')\n",
    "print(childobj.a,childobj.b,childobj.c)"
   ]
  },
  {
   "cell_type": "markdown",
   "metadata": {},
   "source": [
    "<font color=blue>**class-polymorphism**</font>"
   ]
  },
  {
   "cell_type": "code",
   "execution_count": null,
   "metadata": {},
   "outputs": [],
   "source": [
    "class parentclass():\n",
    "    'this is parent class'\n",
    "    def __init__(self,a,b):\n",
    "        self.a = a\n",
    "        self.b = b\n",
    "    def parentfun(self,arg):\n",
    "        print('this is parent class',arg)\n",
    "    def commonfun(self):\n",
    "        print('this is common function from parent')\n",
    "class childclass(parentclass): #derived from parent class\n",
    "    'this is child class'\n",
    "    def __init__(self,a,b,c):\n",
    "        parentclass.__init__(self,a,b)\n",
    "        self.c = c\n",
    "    def parentfun(self,arg): #same function defined in child class\n",
    "        print('this is child class',arg)"
   ]
  },
  {
   "cell_type": "code",
   "execution_count": null,
   "metadata": {},
   "outputs": [],
   "source": [
    "childobj = childclass('first','second','third')\n",
    "childobj.parentfun('child') #polymorphism\n",
    "childobj.commonfun() #inheritance"
   ]
  },
  {
   "cell_type": "markdown",
   "metadata": {},
   "source": [
    "<font color=blue>**class-abstraction,encapsulation**</font>"
   ]
  },
  {
   "cell_type": "code",
   "execution_count": null,
   "metadata": {},
   "outputs": [],
   "source": [
    "class myclass_abs():\n",
    "    var1 = 'first'\n",
    "    __var2 = 'restricted' #can only use this within class\n",
    "    def __init__(self,a):\n",
    "        self.a = a"
   ]
  },
  {
   "cell_type": "code",
   "execution_count": null,
   "metadata": {},
   "outputs": [],
   "source": [
    "obj2 = myclass_abs('second')"
   ]
  },
  {
   "cell_type": "code",
   "execution_count": null,
   "metadata": {},
   "outputs": [],
   "source": [
    "print(obj2.a)\n",
    "print(obj2.var1)\n",
    "# print(obj2.var2) #can't access this out the class"
   ]
  },
  {
   "cell_type": "markdown",
   "metadata": {},
   "source": [
    "<font color=blue>**exception handling**</font>"
   ]
  },
  {
   "cell_type": "code",
   "execution_count": null,
   "metadata": {},
   "outputs": [],
   "source": [
    "#simple\n",
    "import traceback\n",
    "try:\n",
    "    1/0\n",
    "except Exception as e:\n",
    "    print('inside exception block')\n",
    "    print(e) #prints error message\n",
    "    print(type(e).__name__) #prints exception class/type\n",
    "    print(traceback.format_exc())\n",
    "  "
   ]
  },
  {
   "cell_type": "code",
   "execution_count": null,
   "metadata": {},
   "outputs": [],
   "source": [
    "#customised error message\n",
    "try:\n",
    "    if 1==1:\n",
    "        print('numbers are same')\n",
    "    if 1!=2:\n",
    "#         1/0\n",
    "        raise ZeroDivisionError('my customised error')\n",
    "except (ZeroDivisionError,TypeError) as e:\n",
    "    print(e)\n",
    "    print(type(e).__name__)\n",
    "    print('inside exception block')\n",
    "    #raise\n",
    "else:\n",
    "    print('inside else') #Statements under else clause are executed only when no exception occurs in try clause.\n",
    "finally:\n",
    "    print('inside final block') #All the statements under finally clause are executed irrespective of exception occurrence."
   ]
  },
  {
   "cell_type": "markdown",
   "metadata": {},
   "source": [
    "<font color=blue>**file operation**</font>"
   ]
  },
  {
   "cell_type": "code",
   "execution_count": null,
   "metadata": {},
   "outputs": [],
   "source": [
    "fp = open('employee.csv',mode='r')\n",
    "fp.readlines() #read each line as list element\n",
    "fp.read() #read file as one string\n",
    "fp.close()"
   ]
  },
  {
   "cell_type": "code",
   "execution_count": null,
   "metadata": {},
   "outputs": [],
   "source": [
    "fwrite = open('write.txt','w')\n",
    "fread = open('employee.csv',mode='r')\n",
    "content = fread.readlines()\n",
    "fwrite.writelines(content)\n",
    "fwrite.close()\n",
    "fread.close()"
   ]
  },
  {
   "cell_type": "markdown",
   "metadata": {},
   "source": [
    "<font color=blue>**database operation**</font>"
   ]
  },
  {
   "cell_type": "code",
   "execution_count": null,
   "metadata": {},
   "outputs": [],
   "source": [
    "#create table if doesn't exist\n",
    "import sqlite3\n",
    "con = sqlite3.connect('D:\\\\TEST.db') #connection object\n",
    "cursor = con.cursor() #cursor object\n",
    "sql1 = '''DROP TABLE IF EXISTS EMPLOYEE_TEST '''\n",
    "sql2 = '''\n",
    "       CREATE TABLE EMPLOYEE_TEST (\n",
    "       EMPID INT NOT NULL,\n",
    "       NAME CHAR(20) NOT NULL,\n",
    "       AGE INT\n",
    "       )\n",
    "      '''\n",
    "cursor.execute(sql1)\n",
    "cursor.execute(sql2)\n",
    "con.close()"
   ]
  },
  {
   "cell_type": "code",
   "execution_count": null,
   "metadata": {},
   "outputs": [],
   "source": [
    "#inserting data\n",
    "import sqlite3\n",
    "con = sqlite3.connect('D:\\\\TEST.db')\n",
    "cursor = con.cursor()\n",
    "sql = 'insert into EMPLOYEE_TEST values(?,?,?)'\n",
    "rec = (123,'empname_123',30)\n",
    "cursor.execute(sql,rec)\n",
    "con.commit()\n",
    "rec = [\n",
    "    (456,'empname_456',30),\n",
    "    (789,'empname_789',30),\n",
    "    (910,'empname_910',30)\n",
    "]\n",
    "cursor.executemany(sql,rec)\n",
    "con.commit()\n",
    "con.close()"
   ]
  },
  {
   "cell_type": "code",
   "execution_count": null,
   "metadata": {},
   "outputs": [],
   "source": [
    "#fetching data\n",
    "import sqlite3\n",
    "con = sqlite3.connect('D:\\\\TEST.db')\n",
    "cursor = con.cursor()\n",
    "sql = '''select * from EMPLOYEE_TEST'''\n",
    "cursor.execute(sql)\n",
    "rec = cursor.fetchall()\n",
    "con.close()\n",
    "\n",
    "for i in rec:\n",
    "    print(i)"
   ]
  },
  {
   "cell_type": "code",
   "execution_count": null,
   "metadata": {},
   "outputs": [],
   "source": [
    "#databse operations through pandas\n",
    "import pandas as pd\n",
    "import sqlite3\n",
    "con = sqlite3.connect('D:\\\\TEST.db')\n",
    "df = pd.read_csv('employee.csv')\n",
    "df.to_sql('NEW_EMP_TABLE',con=con,if_exists='replace',index=False) #create table in database\n",
    "df_new = pd.read_sql(\"select * from NEW_EMP_TABLE\",con=con)#read all data from table\n",
    "df_new = pd.read_sql('''select * from NEW_EMP_TABLE WHERE \"Gender\" like '%{}%' '''.format('M'),con=con)\n",
    "df_new.to_csv('employee_by_pandas.csv') #store data as csv"
   ]
  },
  {
   "cell_type": "markdown",
   "metadata": {},
   "source": [
    "<font color=blue>**high order function**</font>\n",
    "A Higher Order function is a function, which is capable of doing any one of the following things:\n",
    "\n",
    "It can be functioned as a data and be assigned to a variable.\n",
    "\n",
    "It can accept any other function as an argument.\n",
    "\n",
    "It can return a function as its result."
   ]
  },
  {
   "cell_type": "code",
   "execution_count": 38,
   "metadata": {},
   "outputs": [
    {
     "name": "stdout",
     "output_type": "stream",
     "text": [
      "<class 'function'>\n",
      "Hello world\n"
     ]
    }
   ],
   "source": [
    "#function assigned to a variable\n",
    "def say_hello():\n",
    "    return 'Hello world'\n",
    "say_hello_2 = say_hello\n",
    "print(type(say_hello_2))\n",
    "print(say_hello_2())"
   ]
  },
  {
   "cell_type": "code",
   "execution_count": 43,
   "metadata": {},
   "outputs": [
    {
     "name": "stdout",
     "output_type": "stream",
     "text": [
      "3\n"
     ]
    }
   ],
   "source": [
    "#function passed as an argument\n",
    "def add(x,y):\n",
    "    return x+y\n",
    "def myfunc(func,x,y):\n",
    "    return func(x,y)\n",
    "print(myfunc(add,1,2))"
   ]
  },
  {
   "cell_type": "code",
   "execution_count": 50,
   "metadata": {},
   "outputs": [
    {
     "name": "stdout",
     "output_type": "stream",
     "text": [
      "inner\n"
     ]
    }
   ],
   "source": [
    "#function returning a function\n",
    "def outer(s):\n",
    "    def inner():\n",
    "        s='inner'\n",
    "        return s\n",
    "    return inner()\n",
    "print(outer('outer'))"
   ]
  },
  {
   "cell_type": "code",
   "execution_count": null,
   "metadata": {},
   "outputs": [],
   "source": []
  }
 ],
 "metadata": {
  "kernelspec": {
   "display_name": "Python 3",
   "language": "python",
   "name": "python3"
  },
  "language_info": {
   "codemirror_mode": {
    "name": "ipython",
    "version": 3
   },
   "file_extension": ".py",
   "mimetype": "text/x-python",
   "name": "python",
   "nbconvert_exporter": "python",
   "pygments_lexer": "ipython3",
   "version": "3.7.4"
  }
 },
 "nbformat": 4,
 "nbformat_minor": 4
}
